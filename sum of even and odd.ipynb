{
 "cells": [
  {
   "cell_type": "code",
   "execution_count": 1,
   "id": "4be103ec",
   "metadata": {},
   "outputs": [
    {
     "name": "stdout",
     "output_type": "stream",
     "text": [
      "1234\n",
      "6  4\n"
     ]
    }
   ],
   "source": [
    "num = int(input())\n",
    "rev = 0\n",
    "sum_even = 0\n",
    "sum_odd = 0\n",
    "while num >0:\n",
    "    r = num % 10\n",
    "    rev = rev * 10 + r\n",
    "    num = num // 10\n",
    "    if rev % 2 == 0:\n",
    "        sum_even = sum_even + r\n",
    "    else:\n",
    "        sum_odd = sum_odd + r\n",
    "print(sum_even,\"\",sum_odd)\n"
   ]
  },
  {
   "cell_type": "code",
   "execution_count": null,
   "id": "ca67fefa",
   "metadata": {},
   "outputs": [],
   "source": []
  }
 ],
 "metadata": {
  "kernelspec": {
   "display_name": "Python 3 (ipykernel)",
   "language": "python",
   "name": "python3"
  },
  "language_info": {
   "codemirror_mode": {
    "name": "ipython",
    "version": 3
   },
   "file_extension": ".py",
   "mimetype": "text/x-python",
   "name": "python",
   "nbconvert_exporter": "python",
   "pygments_lexer": "ipython3",
   "version": "3.7.13"
  }
 },
 "nbformat": 4,
 "nbformat_minor": 5
}
